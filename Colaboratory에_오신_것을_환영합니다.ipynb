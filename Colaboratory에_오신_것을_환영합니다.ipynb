{
  "cells": [
    {
      "cell_type": "markdown",
      "metadata": {
        "id": "view-in-github",
        "colab_type": "text"
      },
      "source": [
        "<a href=\"https://colab.research.google.com/github/hyunjilee7/BP_10_Ch3/blob/main/Colaboratory%EC%97%90_%EC%98%A4%EC%8B%A0_%EA%B2%83%EC%9D%84_%ED%99%98%EC%98%81%ED%95%A9%EB%8B%88%EB%8B%A4.ipynb\" target=\"_parent\"><img src=\"https://colab.research.google.com/assets/colab-badge.svg\" alt=\"Open In Colab\"/></a>"
      ]
    },
    {
      "cell_type": "code",
      "source": [
        "x=int(input(\"x의 값을 입력하시오 : \"))\n",
        "y=int(input(\"y의 값을 입력하시오 : \"))\n",
        "\n",
        "print(\"x와 y의 합은 : \",x+y)\n",
        "print(\"x와 y의 차는 : \",x-y)\n",
        "print(\"x와 y의 곱은 : \",x*y)\n",
        "print(\"x와 y의 평균은 : \",(x+y)/2)\n",
        "print(\"x와 y중 큰 수는 : \",max(x,y))\n",
        "print(\"x와 y중 작은 수는 : \",min(x,y))"
      ],
      "metadata": {
        "id": "djCiaVMM2uFL",
        "outputId": "a090321a-b16a-458c-b953-530717a3399f",
        "colab": {
          "base_uri": "https://localhost:8080/"
        }
      },
      "execution_count": 1,
      "outputs": [
        {
          "output_type": "stream",
          "name": "stdout",
          "text": [
            "x의 값을 입력하시오 : 4\n",
            "y의 값을 입력하시오 : 5\n",
            "x와 y의 합은 :  9\n",
            "x와 y의 차는 :  -1\n",
            "x와 y의 곱은 :  20\n",
            "x와 y의 평균은 :  4.5\n",
            "x와 y중 큰 수는 :  5\n",
            "x와 y중 작은 수는 :  4\n"
          ]
        }
      ]
    },
    {
      "cell_type": "code",
      "source": [
        "r=float(input(\"r값을 입력하시오 : \"))   # 변수 r의 값을 사용자로부터 받는다. float형으로\n",
        "h=float(input(\"h값을 입력하시오 : \"))   # 변수 h의 값을 사용자로부터 받는다. float형으로\n",
        "vol=3.141592*r**2*h\n",
        "print(\"원기둥의 부피는 : \",vol,\"입니다.\")"
      ],
      "metadata": {
        "id": "4gVpg9h22xoy",
        "outputId": "2449d5be-f228-4c96-925a-40302f7bbb30",
        "colab": {
          "base_uri": "https://localhost:8080/"
        }
      },
      "execution_count": 2,
      "outputs": [
        {
          "output_type": "stream",
          "name": "stdout",
          "text": [
            "r값을 입력하시오 : 10\n",
            "h값을 입력하시오 : 100\n",
            "원기둥의 부피는 :  31415.92 입니다.\n"
          ]
        }
      ]
    },
    {
      "cell_type": "code",
      "source": [
        "number=int(input(\"정수를 입력하시오 : \"))\n",
        "sum=0   # 변수 sum을 초기화한다. 0으로\n",
        "sum=sum+number%10\n",
        "number=number//10\n",
        "sum=sum+number%10\n",
        "number=number//10\n",
        "sum=sum+number%10\n",
        "number=number//10\n",
        "sum=sum+number%10\n",
        "number=number//10\n",
        "print(\"자릿수의 합은 : \",str(sum))"
      ],
      "metadata": {
        "id": "5wEFDWFZ4lA7",
        "outputId": "6b1d6cb3-8482-4ea7-a97e-e0d84e3acc23",
        "colab": {
          "base_uri": "https://localhost:8080/"
        }
      },
      "execution_count": 4,
      "outputs": [
        {
          "output_type": "stream",
          "name": "stdout",
          "text": [
            "정수를 입력하시오 : 1234\n",
            "자릿수의 합은 :  10\n"
          ]
        }
      ]
    },
    {
      "cell_type": "code",
      "source": [
        "x1=int(input(\"x1의 값 : \"))\n",
        "y1=int(input(\"y1의 값 : \"))\n",
        "x2=int(input(\"x2의 값 : \"))\n",
        "y2=int(input(\"y2의 값 : \"))\n",
        "dist=((x2-x1)**2+(y2-y1)**2)**0.5\n",
        "print(\"두 점 사이의 거리는=\",dist,\"입니다.\")"
      ],
      "metadata": {
        "id": "tlXimu2h7wzi",
        "outputId": "b7f8dd1d-ad29-4b6d-a092-ce44c3b906ff",
        "colab": {
          "base_uri": "https://localhost:8080/"
        }
      },
      "execution_count": 7,
      "outputs": [
        {
          "output_type": "stream",
          "name": "stdout",
          "text": [
            "x1의 값 : 0\n",
            "y1의 값 : 0\n",
            "x2의 값 : 100\n",
            "y2의 값 : 100\n",
            "두 점 사이의 거리는= 141.4213562373095 입니다.\n"
          ]
        }
      ]
    },
    {
      "cell_type": "code",
      "source": [
        "import time\n",
        "fsecond=time.time()\n",
        "total_sec=int(fsecond)\n",
        "total_min=total_sec//60\n",
        "minute=total_min%60\n",
        "total_hour=total_min//60\n",
        "hour=total_hour%24\n",
        "print(\"현재 시각은 (영국 그리니치 표준시각) : \",str(hour)+\"시\"+str(minute)+\"분\")"
      ],
      "metadata": {
        "id": "d-xHxikg9KEB",
        "outputId": "80a671e4-f05c-44e8-e8cc-9caaec449794",
        "colab": {
          "base_uri": "https://localhost:8080/"
        }
      },
      "execution_count": 10,
      "outputs": [
        {
          "output_type": "stream",
          "name": "stdout",
          "text": [
            "현재 시각은 (영국 그리니치 표준시각) :  3시47분\n"
          ]
        }
      ]
    }
  ],
  "metadata": {
    "colab": {
      "collapsed_sections": [],
      "name": "Colaboratory에 오신 것을 환영합니다",
      "provenance": [],
      "include_colab_link": true
    },
    "kernelspec": {
      "display_name": "Python 3",
      "name": "python3"
    }
  },
  "nbformat": 4,
  "nbformat_minor": 0
}