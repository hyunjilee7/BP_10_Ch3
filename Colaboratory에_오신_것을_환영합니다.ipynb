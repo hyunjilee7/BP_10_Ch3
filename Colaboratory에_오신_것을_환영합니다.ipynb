{
  "cells": [
    {
      "cell_type": "markdown",
      "metadata": {
        "id": "view-in-github",
        "colab_type": "text"
      },
      "source": [
        "<a href=\"https://colab.research.google.com/github/hyunjilee7/BP_10_Ch3/blob/main/Colaboratory%EC%97%90_%EC%98%A4%EC%8B%A0_%EA%B2%83%EC%9D%84_%ED%99%98%EC%98%81%ED%95%A9%EB%8B%88%EB%8B%A4.ipynb\" target=\"_parent\"><img src=\"https://colab.research.google.com/assets/colab-badge.svg\" alt=\"Open In Colab\"/></a>"
      ]
    },
    {
      "cell_type": "code",
      "source": [
        "k=int(input(\"물체의 무게를 입력하시오(킬로그램):\"))\n",
        "m=int(input(\"물체의 속도를 입력하시오(미터/초):\"))\n",
        "e=(1/2)*k*(m**2)\n",
        "print(\"물체는 \",e,\"(줄)의 에너지를 가지고 있다.\")"
      ],
      "metadata": {
        "id": "42ia8Tds4ruS",
        "outputId": "2c0321a8-fcc6-4c68-84c5-c2713b857e16",
        "colab": {
          "base_uri": "https://localhost:8080/"
        }
      },
      "execution_count": 2,
      "outputs": [
        {
          "output_type": "stream",
          "name": "stdout",
          "text": [
            "물체의 무게를 입력하시오(킬로그램):10\n",
            "물체의 속도를 입력하시오(미터/초):100\n",
            "물체는  50000.0 (줄)의 에너지를 가지고 있다.\n"
          ]
        }
      ]
    }
  ],
  "metadata": {
    "colab": {
      "collapsed_sections": [],
      "name": "Colaboratory에 오신 것을 환영합니다",
      "toc_visible": true,
      "provenance": [],
      "include_colab_link": true
    },
    "kernelspec": {
      "display_name": "Python 3",
      "name": "python3"
    }
  },
  "nbformat": 4,
  "nbformat_minor": 0
}